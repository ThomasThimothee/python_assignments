{
 "cells": [
  {
   "cell_type": "code",
   "execution_count": 30,
   "metadata": {},
   "outputs": [
    {
     "name": "stdout",
     "output_type": "stream",
     "text": [
      "Downloading file to ./befkbhalderstatkode.csv\n"
     ]
    },
    {
     "data": {
      "text/plain": [
       "'./befkbhalderstatkode.csv'"
      ]
     },
     "execution_count": 30,
     "metadata": {},
     "output_type": "execute_result"
    }
   ],
   "source": [
    "import os\n",
    "import urllib.request as req\n",
    "from urllib.parse import urlparse\n",
    "\n",
    "\n",
    "def download(url, to=None):\n",
    "    \"\"\"Download a remote file specified by a URL to a \n",
    "    local directory.\n",
    "\n",
    "    :param url: str\n",
    "      URL pointing to a remote file.\n",
    "\n",
    "    :param to: str\n",
    "      Local path, absolute or relative, with a filename \n",
    "      to the file storing the contents of the remote file.\n",
    "    \"\"\"\n",
    "\n",
    "    # TODO: Implement me!\n",
    "    if to:\n",
    "        localfile = to\n",
    "    else:\n",
    "        filename = os.path.basename(urlparse(url).path)\n",
    "        localfile = os.path.join(\".\", filename)\n",
    "    \n",
    "    print(\"Downloading file to {}\".format(localfile))\n",
    "    \n",
    "    if not os.path.isfile(localfile):\n",
    "        req.urlretrieve(url, localfile)\n",
    "        \n",
    "    return localfile\n",
    "\n",
    "url = 'http://data.kk.dk/dataset/76ecf368-bf2d-46a2-bcf8-adaf37662528/resource/9286af17-f74e-46c9-a428-9fb707542189/download/befkbhalderstatkode.csv'\n",
    "download(url)"
   ]
  },
  {
   "cell_type": "code",
   "execution_count": 31,
   "metadata": {},
   "outputs": [],
   "source": []
  },
  {
   "cell_type": "code",
   "execution_count": 25,
   "metadata": {},
   "outputs": [],
   "source": []
  },
  {
   "cell_type": "code",
   "execution_count": 21,
   "metadata": {},
   "outputs": [],
   "source": []
  },
  {
   "cell_type": "code",
   "execution_count": 22,
   "metadata": {},
   "outputs": [],
   "source": []
  },
  {
   "cell_type": "code",
   "execution_count": 27,
   "metadata": {},
   "outputs": [
    {
     "name": "stdout",
     "output_type": "stream",
     "text": [
      "Object `urllib` not found.\n"
     ]
    }
   ],
   "source": []
  },
  {
   "cell_type": "code",
   "execution_count": 29,
   "metadata": {},
   "outputs": [
    {
     "name": "stdout",
     "output_type": "stream",
     "text": [
      "Object `urllib.request` not found.\n"
     ]
    }
   ],
   "source": []
  }
 ],
 "metadata": {
  "kernelspec": {
   "display_name": "Python 3",
   "language": "python",
   "name": "python3"
  },
  "language_info": {
   "codemirror_mode": {
    "name": "ipython",
    "version": 3
   },
   "file_extension": ".py",
   "mimetype": "text/x-python",
   "name": "python",
   "nbconvert_exporter": "python",
   "pygments_lexer": "ipython3",
   "version": "3.6.3"
  }
 },
 "nbformat": 4,
 "nbformat_minor": 2
}
